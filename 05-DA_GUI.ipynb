{
 "cells": [
  {
   "cell_type": "code",
   "execution_count": null,
   "metadata": {
    "collapsed": false
   },
   "outputs": [],
   "source": [
    "import numpy as np\n",
    "import matplotlib.pyplot as plt\n",
    "%matplotlib inline\n",
    "\n",
    "from da_gui import *"
   ]
  },
  {
   "cell_type": "code",
   "execution_count": null,
   "metadata": {
    "collapsed": false
   },
   "outputs": [],
   "source": [
    "visualise_albedos()"
   ]
  },
  {
   "cell_type": "code",
   "execution_count": null,
   "metadata": {
    "collapsed": false,
    "scrolled": false
   },
   "outputs": [],
   "source": [
    "single_observation_inversion()"
   ]
  },
  {
   "cell_type": "code",
   "execution_count": null,
   "metadata": {
    "collapsed": true
   },
   "outputs": [],
   "source": []
  }
 ],
 "metadata": {
  "kernelspec": {
   "display_name": "Python 2",
   "language": "python",
   "name": "python2"
  },
  "language_info": {
   "codemirror_mode": {
    "name": "ipython",
    "version": 2
   },
   "file_extension": ".py",
   "mimetype": "text/x-python",
   "name": "python",
   "nbconvert_exporter": "python",
   "pygments_lexer": "ipython2",
   "version": "2.7.12"
  },
  "widgets": {
   "state": {
    "041aa97633b44742ab1e8792c638c735": {
     "views": [
      {
       "cell_index": 2
      }
     ]
    },
    "1744b7eac7d44c71843fea10ae24ed1b": {
     "views": [
      {
       "cell_index": 1
      }
     ]
    },
    "37996589bcfe45e5be3441d41be72d3f": {
     "views": [
      {
       "cell_index": 2
      }
     ]
    },
    "40b958d192244db4be322586910720a1": {
     "views": [
      {
       "cell_index": 2
      }
     ]
    },
    "5a0ac95681574e08848822efd5575755": {
     "views": [
      {
       "cell_index": 2
      }
     ]
    },
    "68bc5475946c4934a56fb3476cf2caf2": {
     "views": [
      {
       "cell_index": 2
      }
     ]
    },
    "72ec05e1a694488cbd55adf1a0923bbd": {
     "views": [
      {
       "cell_index": 2
      }
     ]
    },
    "7a55e51cf0a045bdb1eba982f84f5409": {
     "views": [
      {
       "cell_index": 2
      }
     ]
    },
    "9bd696415a0646809c00261ac7bc1aca": {
     "views": [
      {
       "cell_index": 2
      }
     ]
    },
    "de0b2ddba3b445a9882f335c29baef61": {
     "views": [
      {
       "cell_index": 2
      }
     ]
    },
    "fe76dd4b92054fc8ad6933a96762bd4c": {
     "views": [
      {
       "cell_index": 2
      }
     ]
    }
   },
   "version": "1.2.0"
  }
 },
 "nbformat": 4,
 "nbformat_minor": 0
}
