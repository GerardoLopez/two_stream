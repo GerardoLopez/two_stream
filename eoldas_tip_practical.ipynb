{
 "cells": [
  {
   "cell_type": "code",
   "execution_count": 1,
   "metadata": {
    "collapsed": false
   },
   "outputs": [
    {
     "data": {
      "text/html": [
       "<style>\n",
       "    @font-face {\n",
       "        font-family: \"Computer Modern\";\n",
       "        src: url('http://9dbb143991406a7c655e-aa5fcb0a5a4ec34cff238a2d56ca4144.r56.cf5.rackcdn.com/cmunss.otf');\n",
       "    }\n",
       "    @font-face {\n",
       "        font-family: \"Computer Modern\";\n",
       "        font-weight: bold;\n",
       "        src: url('http://9dbb143991406a7c655e-aa5fcb0a5a4ec34cff238a2d56ca4144.r56.cf5.rackcdn.com/cmunsx.otf');\n",
       "    }\n",
       "    @font-face {\n",
       "        font-family: \"Computer Modern\";\n",
       "        font-style: oblique;\n",
       "        src: url('http://9dbb143991406a7c655e-aa5fcb0a5a4ec34cff238a2d56ca4144.r56.cf5.rackcdn.com/cmunsi.otf');\n",
       "    }\n",
       "    @font-face {\n",
       "        font-family: \"Computer Modern\";\n",
       "        font-weight: bold;\n",
       "        font-style: oblique;\n",
       "        src: url('http://9dbb143991406a7c655e-aa5fcb0a5a4ec34cff238a2d56ca4144.r56.cf5.rackcdn.com/cmunso.otf');\n",
       "    }\n",
       "    div.cell{\n",
       "        width:800px;\n",
       "        margin-left:16% !important;\n",
       "        margin-right:auto;\n",
       "    }\n",
       "    h1 {\n",
       "        font-family: Helvetica, serif;\n",
       "    }\n",
       "    h4{\n",
       "        margin-top:12px;\n",
       "        margin-bottom: 3px;\n",
       "       }\n",
       "    div.text_cell_render{\n",
       "        font-family: Computer Modern, \"Helvetica Neue\", Arial, Helvetica, Geneva, sans-serif;\n",
       "        line-height: 145%;\n",
       "        font-size: 130%;\n",
       "        width:800px;\n",
       "        margin-left:auto;\n",
       "        margin-right:auto;\n",
       "    }\n",
       "    .CodeMirror{\n",
       "            font-family: \"Source Code Pro\", source-code-pro,Consolas, monospace;\n",
       "    }\n",
       "    .prompt{\n",
       "        display: None;\n",
       "    }\n",
       "    .text_cell_render h5 {\n",
       "        font-weight: 300;\n",
       "        font-size: 22pt;\n",
       "        color: #4057A1;\n",
       "        font-style: italic;\n",
       "        margin-bottom: .5em;\n",
       "        margin-top: 0.5em;\n",
       "        display: block;\n",
       "    }\n",
       "    \n",
       "    .warning{\n",
       "        color: rgb( 240, 20, 20 )\n",
       "        }\n",
       "    div.warn {    \n",
       "    \tbackground-color: #fcf2f2;\n",
       "        border-color: #dFb5b4;\n",
       "        border-left: 5px solid #dfb5b4;\n",
       "        padding: 0.5em;\n",
       "        }  \n",
       "    div.question {\n",
       "        background-color: #C2E0C2;\n",
       "\tborder-color: #669900 ;\n",
       "        border-left: 5px solid #669900 ;\n",
       "        padding: 0.5em ;\n",
       "        } \n",
       "</style>\n",
       "<script>\n",
       "    MathJax.Hub.Config({\n",
       "                        TeX: {\n",
       "                           extensions: [\"AMSmath.js\"]\n",
       "                           },\n",
       "                tex2jax: {\n",
       "                    inlineMath: [ ['$','$'], [\"\\\\(\",\"\\\\)\"] ],\n",
       "                    displayMath: [ ['$$','$$'], [\"\\\\[\",\"\\\\]\"] ]\n",
       "                },\n",
       "                displayAlign: 'center', // Change this to 'center' to center equations.\n",
       "                \"HTML-CSS\": {\n",
       "                    styles: {'.MathJax_Display': {\"margin\": 4}}\n",
       "                }\n",
       "        });\n",
       "</script>\n"
      ],
      "text/plain": [
       "<IPython.core.display.HTML object>"
      ]
     },
     "execution_count": 1,
     "metadata": {},
     "output_type": "execute_result"
    }
   ],
   "source": [
    "    from IPython.core.display import HTML\n",
    "    \n",
    "    def css_styling():\n",
    "        styles = open(\"custom.css\", \"r\").read()\n",
    "        return HTML(styles)\n",
    "    css_styling()\n"
   ]
  },
  {
   "cell_type": "markdown",
   "metadata": {},
   "source": [
    "# Biophysical parameter retrieval with ``eoldas_ng``\n",
    "\n",
    "#### J Gómez-Dans (NCEO & UCL)\n",
    "\n",
    "\n",
    "\n",
    "## Introduction\n",
    "\n",
    "In this practical, we consider the problem of extracting meaningful biophysical parameters from optical Earth Observation (EO) data. More concretely, we will use **bihemispherical broadband albedoes** as our input, interpret them through a simple **two-stream radiative transfer scheme** in order to retrieve a handful of parameters which are of interest in a large number of applications:\n",
    "\n",
    "1. Parameters related to leaf reflectance and transmittance in the visible and near-infrarred regions of the spectrum,\n",
    "2. Parameters describing the albedo of the soil under the vegetation,\n",
    "3. The *amount of vegetation*, expressed through an *effective* leaf area index (LAI).\n",
    "\n",
    "The two stream model has been used both for parameter retrieval (as we shall do here), but has also been implemented in a number of dynamic global vegetation models (DGVMs). This means that the parameters that are retrieved here will be strictly compatible with the same concepts in the DGVM, making them directly useable.\n",
    "\n",
    "In this practical, we consider that the main role of the vegetation is in **flux partitioning**, or in other words,the amount of radiation that is absorbed by the canopy to be further used in photosynthesis, for example. \n",
    "\n",
    "## Bits 'n' bobs\n",
    "\n",
    "### The input data\n",
    "\n",
    "A number of albedo products exist, such as the [GlobAlbedo product](http://globalbedo.org) or the [MODIS albedo product](https://www.umb.edu/spectralmass/terra_aqua_modis/v006/mcd43a2_albedo_product). In either of these cases, the products produce an estimate of the **bi-hemispherical reflectance** (BHR) (or *white sky albedo*) for a particular area at a particular time. The differences in these prodcuts are to do with whether data from one particular sensor was used, but are broadly comparable.\n",
    "\n",
    "We have extracted some data from the MODIS Collection 5 albedo product over a number of [FLUXNET sites](http:/fluxnet.ornl.gov/). These are:\n",
    "\n",
    "| Site code | Site Name |\n",
    "|-----------|-----------|\n",
    "|AU-Tum | Tumbarumba|\n",
    "|BR-Cax | Caxiuana Forest-Almeirim|\n",
    "|CA-Ca1 | BC-Campbell River 1949 Douglas-fir|\n",
    "|DE-Geb | Gebesee|\n",
    "|DE-Hai | Hainich|\n",
    "|ES-LMa | Las Majadas del Tietar|\n",
    "|FI-Hyy | Hyytiala|\n",
    "|FR-Lam | Lamasquere|\n",
    "|IT-SRo | San Rossore|\n",
    "|RU-Ylr | Yakutsk-Larch|\n",
    "|SE-Abi | Abisko|\n",
    "|US-Bar | Bartlett Experimental Forest|\n",
    "|US-Bo1 | Bondville|\n",
    "|US-Brw | Barrow |\n",
    "|US-Dk2 | Duke Forest Hardwoods|\n",
    "|US-Ha2 | Harvard Forest Hemlock Site|\n",
    "|US-MMS | Morgan Monroe State Forest|\n",
    "|US-Me2 | Metolius Intermediate Pine|\n",
    "|US-Me3 | Metolius Second Young Pine|\n",
    "|US-Ne1 | Mead - irrigated continuous maize site|\n",
    "|US-Ne2 | Mead - irrigated maize-soybean rotation site|\n",
    "|US-Ne3 | Mead - rainfed maize-soybean rotation site|\n",
    "|US-Ton | Tonzi Ranch|\n",
    "|ZA-Kru | Skukuza|\n",
    "\n",
    "We will now visualise and explore the MODIS C5 BHR data a bit with the next code snippet...\n",
    "\n",
    "<div class=\"warn\">\n",
    "To run this, just press on the **\"play button\"** on the main toolbar\n",
    "</div>\n"
   ]
  },
  {
   "cell_type": "code",
   "execution_count": 3,
   "metadata": {
    "collapsed": false
   },
   "outputs": [
    {
     "data": {
      "image/png": "[encoded data removed]",
      "text/plain": [
       "<matplotlib.figure.Figure at 0x7f25fab61b90>"
      ]
     },
     "metadata": {},
     "output_type": "display_data"
    }
   ],
   "source": [
    "import numpy as np\n",
    "import matplotlib.pyplot as plt\n",
    "%matplotlib inline\n",
    "\n",
    "from da_gui import *\n",
    "\n",
    "visualise_albedos()"
   ]
  },
  {
   "cell_type": "markdown",
   "metadata": {},
   "source": [
    "<div class=\"question\">\n",
    "<ul>\n",
    "<li> What are the main processes that are obvious in the data?</li>\n",
    "<li> How can you relate them to the site in question?</li>\n",
    "<li> Think of this in terms of radiation fluxes. What is this data telling you?</li>\n",
    "</ul>\n",
    "</div>"
   ]
  },
  {
   "cell_type": "code",
   "execution_count": null,
   "metadata": {
    "collapsed": true
   },
   "outputs": [],
   "source": []
  }
 ],
 "metadata": {
  "kernelspec": {
   "display_name": "Python 2",
   "language": "python",
   "name": "python2"
  },
  "language_info": {
   "codemirror_mode": {
    "name": "ipython",
    "version": 2
   },
   "file_extension": ".py",
   "mimetype": "text/x-python",
   "name": "python",
   "nbconvert_exporter": "python",
   "pygments_lexer": "ipython2",
   "version": "2.7.12"
  },
  "widgets": {
   "state": {
    "046c6825b66a47809708a18c5b6f5ac0": {
     "views": [
      {
       "cell_index": 2
      }
     ]
    }
   },
   "version": "1.2.0"
  }
 },
 "nbformat": 4,
 "nbformat_minor": 0
}
